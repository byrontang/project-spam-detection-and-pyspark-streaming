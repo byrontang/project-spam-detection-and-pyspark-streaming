{
 "cells": [
  {
   "cell_type": "markdown",
   "metadata": {},
   "source": [
    "## Scripts \n",
    "The following scripts should be ready before running the commands\n",
    "- A script to train and save model: 2_spark-submit-best-model.py\n",
    "- A script to kick off pyspark streaming: 3_spark-submit-streaming-application.py\n",
    "- A script to configure flume: 4_flume-kafka-streaming.conf\n",
    "\n",
    "## Commands\n",
    "\n",
    "### Webconsole 1 - kafka\n",
    "\n",
    "```kafka-topics --create --zookeeper ip-20-0-21-196.ec2.internal:2181 --replication-factor 1 --partitions 1 --topic edureka_854312_sd```\n",
    "\n",
    "To delete topic:\n",
    "\n",
    "```\n",
    "zookeeper-client -server ip-20-0-21-196.ec2.internal:2181\n",
    "rmr /brokers/topics/edureka_854312_sd\n",
    "rmr /admin/delete_topics/edureka_854312_sd\n",
    "quit\n",
    "```\n",
    "\n",
    "```kafka-console-producer --topic edureka_854312_sd --broker-list ip-20-0-31-210.ec2.internal:9092, ip-20-0-31-221.ec2.internal:9092, ip-20-0-31-221.ec2.internal:9092```\n",
    "\n",
    "### Webconsole 2 - flume\n",
    "\n",
    "```flume-ng agent --conf conf --conf-file 4_flume-streaming.conf --name edureka_854312_spamDetection -Dflume.root.logger=INFO,console```\n",
    "\n",
    "### Webconsole 3 - spark submit\n",
    "```spark2-submit --master yarn 2_spark-submit-best-model.py```\n",
    "\n",
    "```spark2-submit --master yarn 3_spark-submit-streaming-application.py```\n",
    "\n",
    "\n",
    "\n",
    "## Real-time Message for Prediction\n",
    "Gererate messages in producer:\n",
    "- What you doing? How are you?\n",
    "    - **Prediction Result: 0**\n",
    "    \n",
    "- Sunshine Quiz! Win a super Sony DVD recorder if you can name the capital of Australia? Text MQUIZ to 82277\n",
    "    - **Prediction Result: 1**\n"
   ]
  }
 ],
 "metadata": {
  "kernelspec": {
   "display_name": "Python 3",
   "language": "python",
   "name": "python3"
  },
  "language_info": {
   "codemirror_mode": {
    "name": "ipython",
    "version": 3
   },
   "file_extension": ".py",
   "mimetype": "text/x-python",
   "name": "python",
   "nbconvert_exporter": "python",
   "pygments_lexer": "ipython3",
   "version": "3.5.2"
  }
 },
 "nbformat": 4,
 "nbformat_minor": 2
}
